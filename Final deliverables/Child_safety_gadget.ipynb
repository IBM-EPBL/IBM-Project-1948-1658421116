{
  "nbformat": 4,
  "nbformat_minor": 0,
  "metadata": {
    "colab": {
      "provenance": []
    },
    "kernelspec": {
      "name": "python3",
      "display_name": "Python 3"
    },
    "language_info": {
      "name": "python"
    }
  },
  "cells": [
    {
      "cell_type": "code",
      "execution_count": null,
      "metadata": {
        "colab": {
          "base_uri": "https://localhost:8080/",
          "height": 373
        },
        "id": "fOziVxepp6pu",
        "outputId": "a434056e-b576-4963-c34f-8fa45c9cd7e9"
      },
      "outputs": [
        {
          "output_type": "error",
          "ename": "ModuleNotFoundError",
          "evalue": "ignored",
          "traceback": [
            "\u001b[0;31m---------------------------------------------------------------------------\u001b[0m",
            "\u001b[0;31mModuleNotFoundError\u001b[0m                       Traceback (most recent call last)",
            "\u001b[0;32m<ipython-input-2-c90a7b887fd7>\u001b[0m in \u001b[0;36m<module>\u001b[0;34m\u001b[0m\n\u001b[1;32m      1\u001b[0m \u001b[0;32mimport\u001b[0m \u001b[0mjson\u001b[0m\u001b[0;34m\u001b[0m\u001b[0;34m\u001b[0m\u001b[0m\n\u001b[0;32m----> 2\u001b[0;31m \u001b[0;32mimport\u001b[0m \u001b[0mwiotp\u001b[0m\u001b[0;34m.\u001b[0m\u001b[0msdk\u001b[0m\u001b[0;34m.\u001b[0m\u001b[0mdevice\u001b[0m\u001b[0;34m\u001b[0m\u001b[0;34m\u001b[0m\u001b[0m\n\u001b[0m\u001b[1;32m      3\u001b[0m \u001b[0;32mimport\u001b[0m \u001b[0mtime\u001b[0m\u001b[0;34m\u001b[0m\u001b[0;34m\u001b[0m\u001b[0m\n\u001b[1;32m      4\u001b[0m \u001b[0;34m\u001b[0m\u001b[0m\n\u001b[1;32m      5\u001b[0m myConfig = {\n",
            "\u001b[0;31mModuleNotFoundError\u001b[0m: No module named 'wiotp'",
            "",
            "\u001b[0;31m---------------------------------------------------------------------------\u001b[0;32m\nNOTE: If your import is failing due to a missing package, you can\nmanually install dependencies using either !pip or !apt.\n\nTo view examples of installing some common dependencies, click the\n\"Open Examples\" button below.\n\u001b[0;31m---------------------------------------------------------------------------\u001b[0m\n"
          ],
          "errorDetails": {
            "actions": [
              {
                "action": "open_url",
                "actionText": "Open Examples",
                "url": "/notebooks/snippets/importing_libraries.ipynb"
              }
            ]
          }
        }
      ],
      "source": [
        "import json\n",
        "import wiotp.sdk.device\n",
        "import time\n",
        "\n",
        "myConfig = {\n",
        "    \"identity\":{\n",
        "        \"orgId\": \"hj5fmy\",\n",
        "        \"typeId\": \"NodeMCU\",\n",
        "        \"deviceId\": \"12345\"\n",
        "    },\n",
        "    \"auth\": {\n",
        "        \"token\": \"JcsU1Fpt1S5PbLwDqr\"\n",
        "    }\n",
        "}\n",
        "client = wiotp.sdk.device.DeviceClient(config=myConfig, logHandlers=None)\n",
        "client.connect()\n",
        "\n",
        "while True:\n",
        "  name= \"smartbridge\"\n",
        "  #in area location\n",
        "\n",
        "  #latitude= 17.4225176\n",
        "  #longitude= 78.5458842\n",
        "\n",
        "  #out area location\n",
        "\n",
        "  latitude= 17.4219272\n",
        "  longitude= 78.5488783\n",
        "  myData={'name': name, 'lat':latitude, 'lon':longitude}\n",
        "  client.publishEvent(eventId=\"status\", msgFormat=\"json\", data=myData, qos=0, onPublish=None )\n",
        "  print(\"Data published to IBM Iot platform: \",myData)\n",
        "  time.sleep(5)\n",
        "\n",
        "client.disconnect()"
      ]
    }
  ]
}